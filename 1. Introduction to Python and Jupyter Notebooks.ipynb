{
 "cells": [
  {
   "cell_type": "markdown",
   "id": "6914bbfe",
   "metadata": {},
   "source": [
    "# SIT220 - Introduction to Python and Jupyter Notebooks\n",
    "**Author:** George David Nicholson  \n",
    "**Student ID:** 218403172  \n",
    "**Course:** SIT220 (Data Science Undergraduate Program)  \n"
   ]
  },
  {
   "cell_type": "markdown",
   "id": "60089855",
   "metadata": {},
   "source": [
    "## Understanding List Operations and BMI Calculation\n",
    "\n",
    "This code segment involves the creation of three lists: `names`, `heights` (in centimeters), and `weights` (in kilograms), corresponding to individuals and their physical attributes. Subsequently, it initializes an empty list, `bmis`, for storing the Body Mass Index (BMI) values. The code iterates through `heights` and `weights` using a `for` loop. For each pair of height and weight, it computes the BMI and appends this value to the `bmis` list. Finally, the code prints all the lists for verification.\n"
   ]
  },
  {
   "cell_type": "code",
   "execution_count": 22,
   "id": "d491a869",
   "metadata": {
    "scrolled": true
   },
   "outputs": [
    {
     "name": "stdout",
     "output_type": "stream",
     "text": [
      "['Ania', 'Grzesiek', 'Basia', 'Elvira', 'Katherine']\n",
      "[121, 190, 143, 188, 167]\n",
      "[99, 78, 88, 54, 67]\n",
      "[67.618332081142, 21.606648199445985, 43.03388918773535, 15.278406518786783, 24.023808670084982]\n"
     ]
    }
   ],
   "source": [
    "names = [\"Ania\", \"Grzesiek\", \"Basia\", \"Elvira\", \"Katherine\"]\n",
    "heights = [121, 190, 143, 188, 167] # in centimetres\n",
    "weights = [99, 78, 88, 54, 67] # in kilograms\n",
    "bmis = []\n",
    "\n",
    "for i,p in zip(heights, weights):\n",
    "    x = p / (i/100) **2\n",
    "    bmis.append(x)\n",
    "    \n",
    "print(names)\n",
    "print(heights)\n",
    "print(weights)\n",
    "print(bmis)\n",
    "    \n",
    "\n"
   ]
  },
  {
   "cell_type": "markdown",
   "id": "8b1e2f7f",
   "metadata": {},
   "source": [
    "## Visualizing BMI Data with Matplotlib\n",
    "\n",
    "The following code imports the `matplotlib.pyplot` library, which is essential for creating visualizations in Python. It uses this library to create a bar chart that visually represents the BMI values calculated earlier. The barchart plots each name on the x-axis and their corresponding BMI on the y-axis, effectively indicating the BMI levels amongst the individuals of the data used to calculate.\n"
   ]
  },
  {
   "cell_type": "code",
   "execution_count": 23,
   "id": "10fba06e",
   "metadata": {
    "scrolled": true
   },
   "outputs": [
    {
     "data": {
      "image/png": "[encoded data removed]",
      "text/plain": [
       "<Figure size 640x480 with 1 Axes>"
      ]
     },
     "metadata": {},
     "output_type": "display_data"
    }
   ],
   "source": [
    "import matplotlib.pyplot as plt\n",
    "plt.bar(\n",
    "    names,\n",
    "    bmis)\n",
    "plt.title(\"My friends BMI's\")\n",
    "plt.show()"
   ]
  },
  {
   "cell_type": "markdown",
   "id": "03a147a8",
   "metadata": {},
   "source": [
    "## BMI Category Function\n",
    "\n",
    "This section includes a function called `bmi_category`, that categorizes a specific individual's BMI into 'overweight', 'underweight', or 'normal'. It utilises a for loop to iterate through the BMI values associated with each name and prints the corresponding category for us to view.\n"
   ]
  },
  {
   "cell_type": "code",
   "execution_count": 24,
   "id": "24e186f9",
   "metadata": {},
   "outputs": [
    {
     "name": "stdout",
     "output_type": "stream",
     "text": [
      "Ania has a BMI of 67.618332081142 which is overweight\n",
      "Grzesiek has a BMI of 21.606648199445985 which is normal\n",
      "Basia has a BMI of 43.03388918773535 which is overweight\n",
      "Elvira has a BMI of 15.278406518786783 which is underweight\n",
      "Katherine has a BMI of 24.023808670084982 which is normal\n"
     ]
    }
   ],
   "source": [
    "\n",
    "\n",
    "\n",
    "def bmi_category(bmi_value):\n",
    "    \n",
    "    if bmi_value >= 25: \n",
    "         return \"overweight\"\n",
    "    elif bmi_value <= 18.5:\n",
    "        return \"underweight\"\n",
    "    else:\n",
    "         return \"normal\"\n",
    "    \n",
    "    \n",
    "\n",
    "for names,bmis in zip(names, bmis):\n",
    "    print(names, \"has a BMI of\", bmis, \"which is\", bmi_category(bmis))\n",
    "    \n",
    "\n",
    "\n"
   ]
  },
  {
   "cell_type": "markdown",
   "id": "93650579",
   "metadata": {},
   "source": [
    "### In your own words, discuss what are the benefits and limitations of BMI from both the medical and societal perspective, including its possible misuses (write at least 3 text paragraphs)."
   ]
  },
  {
   "cell_type": "markdown",
   "id": "b26d4af4",
   "metadata": {},
   "source": [
    "## Understanding BMI's Role\n",
    "\n",
    "BMI, or Body Mass Index, is a common measure to determine if an individual is overweight, underweight, or normal based on their height and weight. However, it has limitations, particularly regarding a person's height and muscle mass/density.\n",
    "\n",
    "\n",
    "## Societal Perspective on BMI\n",
    "\n",
    "From a societal Perspective, the BMI indicator provides a scale that guides individuals to maintain a healthy weight to aim to stay within or lose BMI points to become 'healthier'. The normal BMI range is between 18.5 and 25, with values above 30 indicating obesity. This measure can be particularly useful for the average person to maintain balance in a busy life. However, for taller and shorter individuals, adhering strictly to BMI can lead to malnutrition or anorexia. BMI does not account for body composition differences, especially in people of varying heights and potential difference in muscle and bone density.\n",
    "\n",
    "## Medical Perspective and its Implications\n",
    "\n",
    "In medical settings, BMI assists in categorizing average weight and predicting potential health issues. This data can be useful for health insurance companies to adjust premiums. However, this system can unfairly categorize healthier individuals who are naturally taller or smaller as overweight, leading to moral and financial implications in health insurance premiums for those opting for it."
   ]
  },
  {
   "cell_type": "code",
   "execution_count": null,
   "id": "fcb2bce6",
   "metadata": {},
   "outputs": [],
   "source": []
  }
 ],
 "metadata": {
  "kernelspec": {
   "display_name": "Python 3 (ipykernel)",
   "language": "python",
   "name": "python3"
  },
  "language_info": {
   "codemirror_mode": {
    "name": "ipython",
    "version": 3
   },
   "file_extension": ".py",
   "mimetype": "text/x-python",
   "name": "python",
   "nbconvert_exporter": "python",
   "pygments_lexer": "ipython3",
   "version": "3.11.5"
  }
 },
 "nbformat": 4,
 "nbformat_minor": 5
}
